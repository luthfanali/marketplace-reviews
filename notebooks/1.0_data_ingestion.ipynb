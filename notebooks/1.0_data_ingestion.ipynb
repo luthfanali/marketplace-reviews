{
 "cells": [
  {
   "cell_type": "code",
   "execution_count": null,
   "metadata": {},
   "outputs": [],
   "source": [
    "import os"
   ]
  },
  {
   "cell_type": "code",
   "execution_count": null,
   "metadata": {},
   "outputs": [],
   "source": [
    "%pwd"
   ]
  },
  {
   "cell_type": "code",
   "execution_count": null,
   "metadata": {},
   "outputs": [],
   "source": [
    "# Change to the main directory\n",
    "# So, it's executed from main directory\n",
    "os.chdir(\"../\")"
   ]
  },
  {
   "cell_type": "code",
   "execution_count": null,
   "metadata": {},
   "outputs": [],
   "source": [
    "with open('.env') as f:\n",
    "    os.environ.update(\n",
    "        line.strip().split('=') for line in f\n",
    ")"
   ]
  },
  {
   "cell_type": "code",
   "execution_count": null,
   "metadata": {},
   "outputs": [],
   "source": [
    "%pwd"
   ]
  },
  {
   "cell_type": "markdown",
   "metadata": {},
   "source": [
    "### Data Ingestion Config\n",
    "\n",
    "This code will be apply in `src/MarketplaceReviews/entity/config_entity.py`"
   ]
  },
  {
   "cell_type": "code",
   "execution_count": null,
   "metadata": {},
   "outputs": [],
   "source": [
    "from dataclasses import dataclass\n",
    "from pathlib import Path\n",
    "\n",
    "@dataclass(frozen=True)\n",
    "class DataIngestionSQLConfig:\n",
    "    root_dir: Path\n",
    "    source_URI: str\n",
    "    reviews_table: str\n",
    "    reviews_path: Path\n"
   ]
  },
  {
   "cell_type": "markdown",
   "metadata": {},
   "source": [
    "### SQL Data Ingestion Config Manager\n",
    "\n",
    "This code will be apply in `src/MarketplaceReviews/config/configurations.py`."
   ]
  },
  {
   "cell_type": "code",
   "execution_count": null,
   "metadata": {},
   "outputs": [],
   "source": [
    "from MarketplaceReviews.constants import CONFIG_FILE_PATH, PARAMS_FILE_PATH\n",
    "from MarketplaceReviews.utils.common import read_yaml, create_directories"
   ]
  },
  {
   "cell_type": "code",
   "execution_count": null,
   "metadata": {},
   "outputs": [],
   "source": [
    "class ConfigurationManager:\n",
    "    def __init__(self, \n",
    "                 config_filepath = CONFIG_FILE_PATH,\n",
    "                 params_filepath = PARAMS_FILE_PATH):\n",
    "\n",
    "        self.config = read_yaml(config_filepath)\n",
    "        self.params = read_yaml(params_filepath)\n",
    "\n",
    "        create_directories([self.config.artifacts_root])\n",
    "    \n",
    "    def get_data_ingestion_sql_config(self) -> DataIngestionSQLConfig:\n",
    "        \"\"\"read data ingestion config file and store as config entity\n",
    "        then apply the dataclasses\n",
    "        \n",
    "        Returns:\n",
    "            config: DataIngestionConfig type\n",
    "        \"\"\"\n",
    "        data_ingest_config = self.config.ingest_from_sql\n",
    "\n",
    "        create_directories([data_ingest_config.root_dir])\n",
    "\n",
    "        config = DataIngestionSQLConfig(\n",
    "            root_dir=data_ingest_config.root_dir,\n",
    "            source_URI=os.environ[\"POSTGRES_URI\"],\n",
    "            reviews_table=data_ingest_config.reviews_table,\n",
    "            reviews_path=Path(data_ingest_config.reviews_path),\n",
    "        )\n",
    "\n",
    "        return config"
   ]
  },
  {
   "cell_type": "markdown",
   "metadata": {},
   "source": [
    "### Perform data ingestion\n",
    "\n",
    "This code in `src/MarketplaceReviews/components/data_ingestion.py`"
   ]
  },
  {
   "cell_type": "code",
   "execution_count": null,
   "metadata": {},
   "outputs": [],
   "source": [
    "import pandas as pd\n",
    "\n",
    "from sqlalchemy import create_engine \n",
    "from tqdm import tqdm\n",
    "\n",
    "from MarketplaceReviews import logger\n",
    "\n",
    "class DataIngestionSQL:\n",
    "    def __init__(self, config: DataIngestionSQLConfig):\n",
    "        self.config = config\n",
    "\n",
    "    def sql_to_csv(self) -> None:\n",
    "        \"\"\"get data from the SQL database\n",
    "        \"\"\"\n",
    "        try:\n",
    "            db = create_engine(self.config.source_URI)  \n",
    "            conn = db.connect()\n",
    "\n",
    "            logger.info(f\"Querying reviews data from SQL Database.\")\n",
    "            df_reviews = pd.read_sql_table(\"reviews\", conn)\n",
    "            \n",
    "            logger.info(f\"Dump data from SQL Database to CSV.\")\n",
    "            df_reviews.to_csv(self.config.reviews_path, index=False)\n",
    "              \n",
    "            logger.info(f\"Data dumped from SQL query into {self.config.root_dir} directory\")\n",
    "            conn.close()\n",
    "        except Exception as e:\n",
    "            conn.close()\n",
    "            logger.error(e)\n",
    "            raise e"
   ]
  },
  {
   "cell_type": "markdown",
   "metadata": {},
   "source": [
    "### Run Ingest from SQL Database\n",
    "\n",
    "This code in `src/MarketplaceReviews/pipeline/step_01_data_ingestion.py`"
   ]
  },
  {
   "cell_type": "code",
   "execution_count": null,
   "metadata": {},
   "outputs": [],
   "source": [
    "try:\n",
    "    config = ConfigurationManager()\n",
    "    data_ingestion_config = config.get_data_ingestion_sql_config()\n",
    "    \n",
    "    data_ingestion = DataIngestionSQL(config=data_ingestion_config)\n",
    "    data_ingestion.sql_to_csv()\n",
    "except Exception as e:\n",
    "    logger.error(e)\n",
    "    raise e"
   ]
  },
  {
   "cell_type": "code",
   "execution_count": null,
   "metadata": {},
   "outputs": [],
   "source": []
  }
 ],
 "metadata": {
  "kernelspec": {
   "display_name": "chest",
   "language": "python",
   "name": "python3"
  },
  "language_info": {
   "codemirror_mode": {
    "name": "ipython",
    "version": 3
   },
   "file_extension": ".py",
   "mimetype": "text/x-python",
   "name": "python",
   "nbconvert_exporter": "python",
   "pygments_lexer": "ipython3",
   "version": "3.12.4"
  },
  "orig_nbformat": 4
 },
 "nbformat": 4,
 "nbformat_minor": 2
}
